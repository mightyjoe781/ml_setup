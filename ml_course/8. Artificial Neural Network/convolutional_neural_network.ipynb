{
  "cells": [
    {
      "cell_type": "markdown",
      "metadata": {
        "colab_type": "text",
        "id": "3DR-eO17geWu"
      },
      "source": [
        "# Convolutional Neural Network"
      ]
    },
    {
      "cell_type": "markdown",
      "metadata": {
        "colab_type": "text",
        "id": "EMefrVPCg-60"
      },
      "source": [
        "### Importing the libraries"
      ]
    },
    {
      "cell_type": "code",
      "execution_count": 1,
      "metadata": {
        "colab": {},
        "colab_type": "code",
        "id": "sCV30xyVhFbE"
      },
      "outputs": [],
      "source": [
        "import tensorflow as tf\n",
        "from keras.preprocessing.image import ImageDataGenerator"
      ]
    },
    {
      "cell_type": "code",
      "execution_count": 2,
      "metadata": {
        "colab": {},
        "colab_type": "code",
        "id": "FIleuCAjoFD8"
      },
      "outputs": [
        {
          "data": {
            "text/plain": [
              "'2.15.0'"
            ]
          },
          "execution_count": 2,
          "metadata": {},
          "output_type": "execute_result"
        }
      ],
      "source": [
        "tf.__version__"
      ]
    },
    {
      "cell_type": "markdown",
      "metadata": {
        "colab_type": "text",
        "id": "oxQxCBWyoGPE"
      },
      "source": [
        "## Part 1 - Data Preprocessing"
      ]
    },
    {
      "cell_type": "markdown",
      "metadata": {
        "colab_type": "text",
        "id": "MvE-heJNo3GG"
      },
      "source": [
        "### Preprocessing the Training set"
      ]
    },
    {
      "cell_type": "code",
      "execution_count": 3,
      "metadata": {
        "colab": {},
        "colab_type": "code",
        "id": "0koUcJMJpEBD"
      },
      "outputs": [
        {
          "name": "stdout",
          "output_type": "stream",
          "text": [
            "Found 8000 images belonging to 2 classes.\n"
          ]
        }
      ],
      "source": [
        "train_datagen = ImageDataGenerator(rescale = 1./255,\n",
        "                                   shear_range = 0.2,\n",
        "                                   zoom_range = 0.2,\n",
        "                                   horizontal_flip = True)\n",
        "training_set = train_datagen.flow_from_directory('../../datasets/pet/training_set',\n",
        "                                                 target_size = (64, 64),\n",
        "                                                 batch_size = 32,\n",
        "                                                 class_mode = 'binary')"
      ]
    },
    {
      "cell_type": "markdown",
      "metadata": {
        "colab_type": "text",
        "id": "mrCMmGw9pHys"
      },
      "source": [
        "### Preprocessing the Test set"
      ]
    },
    {
      "cell_type": "code",
      "execution_count": 5,
      "metadata": {
        "colab": {},
        "colab_type": "code",
        "id": "SH4WzfOhpKc3"
      },
      "outputs": [
        {
          "name": "stdout",
          "output_type": "stream",
          "text": [
            "Found 2000 images belonging to 2 classes.\n"
          ]
        }
      ],
      "source": [
        "test_datagen = ImageDataGenerator(rescale = 1./255)\n",
        "test_set = test_datagen.flow_from_directory('../../datasets/pet/test_set',\n",
        "                                            target_size = (64, 64),\n",
        "                                            batch_size = 32,\n",
        "                                            class_mode = 'binary')"
      ]
    },
    {
      "cell_type": "markdown",
      "metadata": {
        "colab_type": "text",
        "id": "af8O4l90gk7B"
      },
      "source": [
        "## Part 2 - Building the CNN"
      ]
    },
    {
      "cell_type": "markdown",
      "metadata": {
        "colab_type": "text",
        "id": "ces1gXY2lmoX"
      },
      "source": [
        "### Initialising the CNN"
      ]
    },
    {
      "cell_type": "code",
      "execution_count": 6,
      "metadata": {
        "colab": {},
        "colab_type": "code",
        "id": "SAUt4UMPlhLS"
      },
      "outputs": [],
      "source": [
        "cnn = tf.keras.models.Sequential()"
      ]
    },
    {
      "cell_type": "markdown",
      "metadata": {
        "colab_type": "text",
        "id": "u5YJj_XMl5LF"
      },
      "source": [
        "### Step 1 - Convolution"
      ]
    },
    {
      "cell_type": "code",
      "execution_count": 7,
      "metadata": {
        "colab": {},
        "colab_type": "code",
        "id": "XPzPrMckl-hV"
      },
      "outputs": [],
      "source": [
        "cnn.add(tf.keras.layers.Conv2D(filters=32, kernel_size=3, activation='relu', input_shape=[64, 64, 3]))"
      ]
    },
    {
      "cell_type": "markdown",
      "metadata": {
        "colab_type": "text",
        "id": "tf87FpvxmNOJ"
      },
      "source": [
        "### Step 2 - Pooling"
      ]
    },
    {
      "cell_type": "code",
      "execution_count": 8,
      "metadata": {
        "colab": {},
        "colab_type": "code",
        "id": "ncpqPl69mOac"
      },
      "outputs": [],
      "source": [
        "cnn.add(tf.keras.layers.MaxPool2D(pool_size=2, strides=2))"
      ]
    },
    {
      "cell_type": "markdown",
      "metadata": {
        "colab_type": "text",
        "id": "xaTOgD8rm4mU"
      },
      "source": [
        "### Adding a second convolutional layer"
      ]
    },
    {
      "cell_type": "code",
      "execution_count": 9,
      "metadata": {
        "colab": {},
        "colab_type": "code",
        "id": "i_-FZjn_m8gk"
      },
      "outputs": [],
      "source": [
        "cnn.add(tf.keras.layers.Conv2D(filters=32, kernel_size=3, activation='relu'))\n",
        "cnn.add(tf.keras.layers.MaxPool2D(pool_size=2, strides=2))"
      ]
    },
    {
      "cell_type": "markdown",
      "metadata": {
        "colab_type": "text",
        "id": "tmiEuvTunKfk"
      },
      "source": [
        "### Step 3 - Flattening"
      ]
    },
    {
      "cell_type": "code",
      "execution_count": 10,
      "metadata": {
        "colab": {},
        "colab_type": "code",
        "id": "6AZeOGCvnNZn"
      },
      "outputs": [],
      "source": [
        "cnn.add(tf.keras.layers.Flatten())"
      ]
    },
    {
      "cell_type": "markdown",
      "metadata": {
        "colab_type": "text",
        "id": "dAoSECOm203v"
      },
      "source": [
        "### Step 4 - Full Connection"
      ]
    },
    {
      "cell_type": "code",
      "execution_count": 11,
      "metadata": {
        "colab": {},
        "colab_type": "code",
        "id": "8GtmUlLd26Nq"
      },
      "outputs": [],
      "source": [
        "cnn.add(tf.keras.layers.Dense(units=128, activation='relu'))"
      ]
    },
    {
      "cell_type": "markdown",
      "metadata": {
        "colab_type": "text",
        "id": "yTldFvbX28Na"
      },
      "source": [
        "### Step 5 - Output Layer"
      ]
    },
    {
      "cell_type": "code",
      "execution_count": 12,
      "metadata": {
        "colab": {},
        "colab_type": "code",
        "id": "1p_Zj1Mc3Ko_"
      },
      "outputs": [],
      "source": [
        "cnn.add(tf.keras.layers.Dense(units=1, activation='sigmoid'))"
      ]
    },
    {
      "cell_type": "markdown",
      "metadata": {
        "colab_type": "text",
        "id": "D6XkI90snSDl"
      },
      "source": [
        "## Part 3 - Training the CNN"
      ]
    },
    {
      "cell_type": "markdown",
      "metadata": {
        "colab_type": "text",
        "id": "vfrFQACEnc6i"
      },
      "source": [
        "### Compiling the CNN"
      ]
    },
    {
      "cell_type": "code",
      "execution_count": 13,
      "metadata": {
        "colab": {},
        "colab_type": "code",
        "id": "NALksrNQpUlJ"
      },
      "outputs": [],
      "source": [
        "cnn.compile(optimizer = 'adam', loss = 'binary_crossentropy', metrics = ['accuracy'])"
      ]
    },
    {
      "cell_type": "markdown",
      "metadata": {
        "colab_type": "text",
        "id": "ehS-v3MIpX2h"
      },
      "source": [
        "### Training the CNN on the Training set and evaluating it on the Test set"
      ]
    },
    {
      "cell_type": "code",
      "execution_count": 14,
      "metadata": {
        "colab": {},
        "colab_type": "code",
        "id": "XUj1W4PJptta"
      },
      "outputs": [
        {
          "name": "stdout",
          "output_type": "stream",
          "text": [
            "Epoch 1/25\n",
            "250/250 [==============================] - 26s 101ms/step - loss: 0.6709 - accuracy: 0.5764 - val_loss: 0.7120 - val_accuracy: 0.5810\n",
            "Epoch 2/25\n",
            "250/250 [==============================] - 23s 93ms/step - loss: 0.5944 - accuracy: 0.6773 - val_loss: 0.5591 - val_accuracy: 0.7205\n",
            "Epoch 3/25\n",
            "250/250 [==============================] - 25s 101ms/step - loss: 0.5546 - accuracy: 0.7131 - val_loss: 0.5293 - val_accuracy: 0.7370\n",
            "Epoch 4/25\n",
            "250/250 [==============================] - 26s 105ms/step - loss: 0.5295 - accuracy: 0.7309 - val_loss: 0.5234 - val_accuracy: 0.7450\n",
            "Epoch 5/25\n",
            "250/250 [==============================] - 24s 97ms/step - loss: 0.5032 - accuracy: 0.7529 - val_loss: 0.4924 - val_accuracy: 0.7690\n",
            "Epoch 6/25\n",
            "250/250 [==============================] - 25s 98ms/step - loss: 0.4851 - accuracy: 0.7625 - val_loss: 0.4959 - val_accuracy: 0.7595\n",
            "Epoch 7/25\n",
            "250/250 [==============================] - 28s 111ms/step - loss: 0.4575 - accuracy: 0.7835 - val_loss: 0.4748 - val_accuracy: 0.7810\n",
            "Epoch 8/25\n",
            "250/250 [==============================] - 26s 106ms/step - loss: 0.4605 - accuracy: 0.7790 - val_loss: 0.5040 - val_accuracy: 0.7525\n",
            "Epoch 9/25\n",
            "250/250 [==============================] - 24s 98ms/step - loss: 0.4408 - accuracy: 0.7915 - val_loss: 0.5283 - val_accuracy: 0.7315\n",
            "Epoch 10/25\n",
            "250/250 [==============================] - 29s 115ms/step - loss: 0.4301 - accuracy: 0.7994 - val_loss: 0.4715 - val_accuracy: 0.7875\n",
            "Epoch 11/25\n",
            "250/250 [==============================] - 33s 133ms/step - loss: 0.4192 - accuracy: 0.8051 - val_loss: 0.4688 - val_accuracy: 0.7830\n",
            "Epoch 12/25\n",
            "250/250 [==============================] - 24s 95ms/step - loss: 0.4058 - accuracy: 0.8115 - val_loss: 0.4553 - val_accuracy: 0.7795\n",
            "Epoch 13/25\n",
            "250/250 [==============================] - 24s 97ms/step - loss: 0.3934 - accuracy: 0.8259 - val_loss: 0.4726 - val_accuracy: 0.7900\n",
            "Epoch 14/25\n",
            "250/250 [==============================] - 23s 93ms/step - loss: 0.3868 - accuracy: 0.8225 - val_loss: 0.5187 - val_accuracy: 0.7605\n",
            "Epoch 15/25\n",
            "250/250 [==============================] - 24s 97ms/step - loss: 0.3726 - accuracy: 0.8317 - val_loss: 0.4718 - val_accuracy: 0.7915\n",
            "Epoch 16/25\n",
            "250/250 [==============================] - 24s 95ms/step - loss: 0.3586 - accuracy: 0.8376 - val_loss: 0.4575 - val_accuracy: 0.8000\n",
            "Epoch 17/25\n",
            "250/250 [==============================] - 27s 109ms/step - loss: 0.3472 - accuracy: 0.8485 - val_loss: 0.4946 - val_accuracy: 0.7905\n",
            "Epoch 18/25\n",
            "250/250 [==============================] - 23s 91ms/step - loss: 0.3361 - accuracy: 0.8501 - val_loss: 0.4742 - val_accuracy: 0.7905\n",
            "Epoch 19/25\n",
            "250/250 [==============================] - 23s 91ms/step - loss: 0.3288 - accuracy: 0.8576 - val_loss: 0.4784 - val_accuracy: 0.7825\n",
            "Epoch 20/25\n",
            "250/250 [==============================] - 22s 90ms/step - loss: 0.3186 - accuracy: 0.8601 - val_loss: 0.5648 - val_accuracy: 0.7785\n",
            "Epoch 21/25\n",
            "250/250 [==============================] - 23s 94ms/step - loss: 0.3049 - accuracy: 0.8676 - val_loss: 0.4885 - val_accuracy: 0.7905\n",
            "Epoch 22/25\n",
            "250/250 [==============================] - 22s 90ms/step - loss: 0.2940 - accuracy: 0.8714 - val_loss: 0.5225 - val_accuracy: 0.7875\n",
            "Epoch 23/25\n",
            "250/250 [==============================] - 22s 89ms/step - loss: 0.2935 - accuracy: 0.8758 - val_loss: 0.5041 - val_accuracy: 0.7865\n",
            "Epoch 24/25\n",
            "250/250 [==============================] - 23s 90ms/step - loss: 0.2730 - accuracy: 0.8870 - val_loss: 0.5078 - val_accuracy: 0.7820\n",
            "Epoch 25/25\n",
            "250/250 [==============================] - 24s 95ms/step - loss: 0.2741 - accuracy: 0.8857 - val_loss: 0.5727 - val_accuracy: 0.7760\n"
          ]
        },
        {
          "data": {
            "text/plain": [
              "<keras.src.callbacks.History at 0xffff18787c90>"
            ]
          },
          "execution_count": 14,
          "metadata": {},
          "output_type": "execute_result"
        }
      ],
      "source": [
        "cnn.fit(x = training_set, validation_data = test_set, epochs = 25)"
      ]
    },
    {
      "cell_type": "markdown",
      "metadata": {
        "colab_type": "text",
        "id": "U3PZasO0006Z"
      },
      "source": [
        "## Part 4 - Making a single prediction"
      ]
    },
    {
      "cell_type": "code",
      "execution_count": 17,
      "metadata": {
        "colab": {},
        "colab_type": "code",
        "id": "gsSiWEJY1BPB"
      },
      "outputs": [
        {
          "name": "stdout",
          "output_type": "stream",
          "text": [
            "1/1 [==============================] - 0s 16ms/step\n"
          ]
        }
      ],
      "source": [
        "import numpy as np\n",
        "from keras.preprocessing import image\n",
        "test_image = image.load_img('../../datasets/pet/single_prediction/dog.jpg', target_size = (64, 64))\n",
        "test_image = image.img_to_array(test_image)\n",
        "test_image = np.expand_dims(test_image, axis = 0)\n",
        "result = cnn.predict(test_image)\n",
        "training_set.class_indices\n",
        "if result[0][0] == 1:\n",
        "  prediction = 'dog'\n",
        "else:\n",
        "  prediction = 'cat'"
      ]
    },
    {
      "cell_type": "code",
      "execution_count": 18,
      "metadata": {
        "colab": {},
        "colab_type": "code",
        "id": "ED9KB3I54c1i"
      },
      "outputs": [
        {
          "name": "stdout",
          "output_type": "stream",
          "text": [
            "dog\n"
          ]
        }
      ],
      "source": [
        "print(prediction)"
      ]
    }
  ],
  "metadata": {
    "colab": {
      "collapsed_sections": [],
      "name": "convolutional_neural_network.ipynb",
      "provenance": [],
      "toc_visible": true
    },
    "kernelspec": {
      "display_name": "vscode_ml_ai",
      "language": "python",
      "name": "vscode_ml_ai"
    },
    "language_info": {
      "codemirror_mode": {
        "name": "ipython",
        "version": 3
      },
      "file_extension": ".py",
      "mimetype": "text/x-python",
      "name": "python",
      "nbconvert_exporter": "python",
      "pygments_lexer": "ipython3",
      "version": "3.11.8"
    }
  },
  "nbformat": 4,
  "nbformat_minor": 0
}
